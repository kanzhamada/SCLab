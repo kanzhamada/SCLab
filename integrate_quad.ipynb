{
  "nbformat": 4,
  "nbformat_minor": 0,
  "metadata": {
    "colab": {
      "provenance": []
    },
    "kernelspec": {
      "name": "python3",
      "display_name": "Python 3"
    },
    "language_info": {
      "name": "python"
    }
  },
  "cells": [
    {
      "cell_type": "code",
      "execution_count": null,
      "metadata": {
        "colab": {
          "base_uri": "https://localhost:8080/"
        },
        "id": "Ua7-TkKCxbfI",
        "outputId": "e51de603-93e4-4b40-bbe0-3775edc04de2"
      },
      "outputs": [
        {
          "output_type": "stream",
          "name": "stdout",
          "text": [
            "2.0\n",
            "2.220446049250313e-14 0.0\n"
          ]
        }
      ],
      "source": [
        "from scipy.integrate import quad\n",
        "import numpy as np\n",
        "\n",
        "I_quad, est_err_quad = \\\n",
        "quad(np.sin, 0, np.pi)\n",
        "print(I_quad)\n",
        "err_quad = 2 - I_quad\n",
        "print(est_err_quad,err_quad)"
      ]
    }
  ]
}